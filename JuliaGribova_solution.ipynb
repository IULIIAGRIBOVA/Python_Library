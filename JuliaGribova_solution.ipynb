{
 "cells": [
  {
   "cell_type": "code",
   "execution_count": 453,
   "metadata": {},
   "outputs": [],
   "source": [
    "import numpy as np\n",
    "import pandas as pd\n",
    "import random\n",
    "\n",
    "from sklearn.model_selection import cross_val_score, train_test_split\n",
    "from sklearn.ensemble import RandomForestRegressor\n",
    "from sklearn.metrics import r2_score\n",
    "from sklearn.model_selection import KFold, GridSearchCV\n",
    "\n",
    "import matplotlib\n",
    "import matplotlib.pyplot as plt\n",
    "import seaborn as sns\n",
    "%matplotlib inline\n",
    "\n",
    "import warnings\n",
    "warnings.filterwarnings('ignore')\n",
    "sns.set(style='whitegrid')\n",
    "sns.set_context(\"paper\", font_scale=1.5)  \n",
    "pd.options.display.float_format = '{:,.2f}'.format\n",
    "pd.set_option('display.max_rows', 50)\n"
   ]
  },
  {
   "cell_type": "code",
   "execution_count": 454,
   "metadata": {},
   "outputs": [],
   "source": [
    "train = pd.read_csv('train.csv', index_col=0, encoding='utf-8')"
   ]
  },
  {
   "cell_type": "code",
   "execution_count": 455,
   "metadata": {},
   "outputs": [],
   "source": [
    "test = pd.read_csv('test.csv', index_col=0, encoding='utf-8')"
   ]
  },
  {
   "cell_type": "code",
   "execution_count": 456,
   "metadata": {},
   "outputs": [
    {
     "name": "stdout",
     "output_type": "stream",
     "text": [
      "<class 'pandas.core.frame.DataFrame'>\n",
      "Int64Index: 10000 entries, 14038 to 6306\n",
      "Data columns (total 19 columns):\n",
      " #   Column         Non-Null Count  Dtype  \n",
      "---  ------         --------------  -----  \n",
      " 0   DistrictId     10000 non-null  int64  \n",
      " 1   Rooms          10000 non-null  float64\n",
      " 2   Square         10000 non-null  float64\n",
      " 3   LifeSquare     7887 non-null   float64\n",
      " 4   KitchenSquare  10000 non-null  float64\n",
      " 5   Floor          10000 non-null  int64  \n",
      " 6   HouseFloor     10000 non-null  float64\n",
      " 7   HouseYear      10000 non-null  int64  \n",
      " 8   Ecology_1      10000 non-null  float64\n",
      " 9   Ecology_2      10000 non-null  object \n",
      " 10  Ecology_3      10000 non-null  object \n",
      " 11  Social_1       10000 non-null  int64  \n",
      " 12  Social_2       10000 non-null  int64  \n",
      " 13  Social_3       10000 non-null  int64  \n",
      " 14  Healthcare_1   5202 non-null   float64\n",
      " 15  Helthcare_2    10000 non-null  int64  \n",
      " 16  Shops_1        10000 non-null  int64  \n",
      " 17  Shops_2        10000 non-null  object \n",
      " 18  Price          10000 non-null  float64\n",
      "dtypes: float64(8), int64(8), object(3)\n",
      "memory usage: 1.5+ MB\n"
     ]
    }
   ],
   "source": [
    "train.info()"
   ]
  },
  {
   "cell_type": "code",
   "execution_count": 457,
   "metadata": {},
   "outputs": [
    {
     "name": "stdout",
     "output_type": "stream",
     "text": [
      "<class 'pandas.core.frame.DataFrame'>\n",
      "Int64Index: 5000 entries, 725 to 12504\n",
      "Data columns (total 18 columns):\n",
      " #   Column         Non-Null Count  Dtype  \n",
      "---  ------         --------------  -----  \n",
      " 0   DistrictId     5000 non-null   int64  \n",
      " 1   Rooms          5000 non-null   float64\n",
      " 2   Square         5000 non-null   float64\n",
      " 3   LifeSquare     3959 non-null   float64\n",
      " 4   KitchenSquare  5000 non-null   float64\n",
      " 5   Floor          5000 non-null   int64  \n",
      " 6   HouseFloor     5000 non-null   float64\n",
      " 7   HouseYear      5000 non-null   int64  \n",
      " 8   Ecology_1      5000 non-null   float64\n",
      " 9   Ecology_2      5000 non-null   object \n",
      " 10  Ecology_3      5000 non-null   object \n",
      " 11  Social_1       5000 non-null   int64  \n",
      " 12  Social_2       5000 non-null   int64  \n",
      " 13  Social_3       5000 non-null   int64  \n",
      " 14  Healthcare_1   2623 non-null   float64\n",
      " 15  Helthcare_2    5000 non-null   int64  \n",
      " 16  Shops_1        5000 non-null   int64  \n",
      " 17  Shops_2        5000 non-null   object \n",
      "dtypes: float64(7), int64(8), object(3)\n",
      "memory usage: 742.2+ KB\n"
     ]
    }
   ],
   "source": [
    "test.info()"
   ]
  },
  {
   "cell_type": "code",
   "execution_count": 458,
   "metadata": {},
   "outputs": [
    {
     "data": {
      "text/html": [
       "<div>\n",
       "<style scoped>\n",
       "    .dataframe tbody tr th:only-of-type {\n",
       "        vertical-align: middle;\n",
       "    }\n",
       "\n",
       "    .dataframe tbody tr th {\n",
       "        vertical-align: top;\n",
       "    }\n",
       "\n",
       "    .dataframe thead th {\n",
       "        text-align: right;\n",
       "    }\n",
       "</style>\n",
       "<table border=\"1\" class=\"dataframe\">\n",
       "  <thead>\n",
       "    <tr style=\"text-align: right;\">\n",
       "      <th></th>\n",
       "      <th>DistrictId</th>\n",
       "      <th>Rooms</th>\n",
       "      <th>Square</th>\n",
       "      <th>LifeSquare</th>\n",
       "      <th>KitchenSquare</th>\n",
       "      <th>Floor</th>\n",
       "      <th>HouseFloor</th>\n",
       "      <th>HouseYear</th>\n",
       "      <th>Ecology_1</th>\n",
       "      <th>Ecology_2</th>\n",
       "      <th>Ecology_3</th>\n",
       "      <th>Social_1</th>\n",
       "      <th>Social_2</th>\n",
       "      <th>Social_3</th>\n",
       "      <th>Healthcare_1</th>\n",
       "      <th>Helthcare_2</th>\n",
       "      <th>Shops_1</th>\n",
       "      <th>Shops_2</th>\n",
       "      <th>Price</th>\n",
       "    </tr>\n",
       "    <tr>\n",
       "      <th>Id</th>\n",
       "      <th></th>\n",
       "      <th></th>\n",
       "      <th></th>\n",
       "      <th></th>\n",
       "      <th></th>\n",
       "      <th></th>\n",
       "      <th></th>\n",
       "      <th></th>\n",
       "      <th></th>\n",
       "      <th></th>\n",
       "      <th></th>\n",
       "      <th></th>\n",
       "      <th></th>\n",
       "      <th></th>\n",
       "      <th></th>\n",
       "      <th></th>\n",
       "      <th></th>\n",
       "      <th></th>\n",
       "      <th></th>\n",
       "    </tr>\n",
       "  </thead>\n",
       "  <tbody>\n",
       "    <tr>\n",
       "      <th>14038</th>\n",
       "      <td>35</td>\n",
       "      <td>2.00</td>\n",
       "      <td>47.98</td>\n",
       "      <td>29.44</td>\n",
       "      <td>6.00</td>\n",
       "      <td>7</td>\n",
       "      <td>9.00</td>\n",
       "      <td>1969</td>\n",
       "      <td>0.09</td>\n",
       "      <td>B</td>\n",
       "      <td>B</td>\n",
       "      <td>33</td>\n",
       "      <td>7976</td>\n",
       "      <td>5</td>\n",
       "      <td>nan</td>\n",
       "      <td>0</td>\n",
       "      <td>11</td>\n",
       "      <td>B</td>\n",
       "      <td>184,966.93</td>\n",
       "    </tr>\n",
       "    <tr>\n",
       "      <th>15053</th>\n",
       "      <td>41</td>\n",
       "      <td>3.00</td>\n",
       "      <td>65.68</td>\n",
       "      <td>40.05</td>\n",
       "      <td>8.00</td>\n",
       "      <td>7</td>\n",
       "      <td>9.00</td>\n",
       "      <td>1978</td>\n",
       "      <td>0.00</td>\n",
       "      <td>B</td>\n",
       "      <td>B</td>\n",
       "      <td>46</td>\n",
       "      <td>10309</td>\n",
       "      <td>1</td>\n",
       "      <td>240.00</td>\n",
       "      <td>1</td>\n",
       "      <td>16</td>\n",
       "      <td>B</td>\n",
       "      <td>300,009.45</td>\n",
       "    </tr>\n",
       "    <tr>\n",
       "      <th>4765</th>\n",
       "      <td>53</td>\n",
       "      <td>2.00</td>\n",
       "      <td>44.95</td>\n",
       "      <td>29.20</td>\n",
       "      <td>0.00</td>\n",
       "      <td>8</td>\n",
       "      <td>12.00</td>\n",
       "      <td>1968</td>\n",
       "      <td>0.05</td>\n",
       "      <td>B</td>\n",
       "      <td>B</td>\n",
       "      <td>34</td>\n",
       "      <td>7759</td>\n",
       "      <td>0</td>\n",
       "      <td>229.00</td>\n",
       "      <td>1</td>\n",
       "      <td>3</td>\n",
       "      <td>B</td>\n",
       "      <td>220,925.91</td>\n",
       "    </tr>\n",
       "    <tr>\n",
       "      <th>5809</th>\n",
       "      <td>58</td>\n",
       "      <td>2.00</td>\n",
       "      <td>53.35</td>\n",
       "      <td>52.73</td>\n",
       "      <td>9.00</td>\n",
       "      <td>8</td>\n",
       "      <td>17.00</td>\n",
       "      <td>1977</td>\n",
       "      <td>0.44</td>\n",
       "      <td>B</td>\n",
       "      <td>B</td>\n",
       "      <td>23</td>\n",
       "      <td>5735</td>\n",
       "      <td>3</td>\n",
       "      <td>1,084.00</td>\n",
       "      <td>0</td>\n",
       "      <td>5</td>\n",
       "      <td>B</td>\n",
       "      <td>175,616.23</td>\n",
       "    </tr>\n",
       "    <tr>\n",
       "      <th>10783</th>\n",
       "      <td>99</td>\n",
       "      <td>1.00</td>\n",
       "      <td>39.65</td>\n",
       "      <td>23.78</td>\n",
       "      <td>7.00</td>\n",
       "      <td>11</td>\n",
       "      <td>12.00</td>\n",
       "      <td>1976</td>\n",
       "      <td>0.01</td>\n",
       "      <td>B</td>\n",
       "      <td>B</td>\n",
       "      <td>35</td>\n",
       "      <td>5776</td>\n",
       "      <td>1</td>\n",
       "      <td>2,078.00</td>\n",
       "      <td>2</td>\n",
       "      <td>4</td>\n",
       "      <td>B</td>\n",
       "      <td>150,226.53</td>\n",
       "    </tr>\n",
       "  </tbody>\n",
       "</table>\n",
       "</div>"
      ],
      "text/plain": [
       "       DistrictId  Rooms  Square  LifeSquare  KitchenSquare  Floor  \\\n",
       "Id                                                                   \n",
       "14038          35   2.00   47.98       29.44           6.00      7   \n",
       "15053          41   3.00   65.68       40.05           8.00      7   \n",
       "4765           53   2.00   44.95       29.20           0.00      8   \n",
       "5809           58   2.00   53.35       52.73           9.00      8   \n",
       "10783          99   1.00   39.65       23.78           7.00     11   \n",
       "\n",
       "       HouseFloor  HouseYear  Ecology_1 Ecology_2 Ecology_3  Social_1  \\\n",
       "Id                                                                      \n",
       "14038        9.00       1969       0.09         B         B        33   \n",
       "15053        9.00       1978       0.00         B         B        46   \n",
       "4765        12.00       1968       0.05         B         B        34   \n",
       "5809        17.00       1977       0.44         B         B        23   \n",
       "10783       12.00       1976       0.01         B         B        35   \n",
       "\n",
       "       Social_2  Social_3  Healthcare_1  Helthcare_2  Shops_1 Shops_2  \\\n",
       "Id                                                                      \n",
       "14038      7976         5           nan            0       11       B   \n",
       "15053     10309         1        240.00            1       16       B   \n",
       "4765       7759         0        229.00            1        3       B   \n",
       "5809       5735         3      1,084.00            0        5       B   \n",
       "10783      5776         1      2,078.00            2        4       B   \n",
       "\n",
       "           Price  \n",
       "Id                \n",
       "14038 184,966.93  \n",
       "15053 300,009.45  \n",
       "4765  220,925.91  \n",
       "5809  175,616.23  \n",
       "10783 150,226.53  "
      ]
     },
     "execution_count": 458,
     "metadata": {},
     "output_type": "execute_result"
    }
   ],
   "source": [
    "train.head()"
   ]
  },
  {
   "cell_type": "code",
   "execution_count": 459,
   "metadata": {},
   "outputs": [
    {
     "data": {
      "text/plain": [
       "((10000, 19), (5000, 18))"
      ]
     },
     "execution_count": 459,
     "metadata": {},
     "output_type": "execute_result"
    }
   ],
   "source": [
    "train.shape, test.shape"
   ]
  },
  {
   "cell_type": "code",
   "execution_count": 460,
   "metadata": {},
   "outputs": [
    {
     "data": {
      "text/plain": [
       "DistrictId         int64\n",
       "Rooms            float64\n",
       "Square           float64\n",
       "LifeSquare       float64\n",
       "KitchenSquare    float64\n",
       "Floor              int64\n",
       "HouseFloor       float64\n",
       "HouseYear          int64\n",
       "Ecology_1        float64\n",
       "Ecology_2         object\n",
       "Ecology_3         object\n",
       "Social_1           int64\n",
       "Social_2           int64\n",
       "Social_3           int64\n",
       "Healthcare_1     float64\n",
       "Helthcare_2        int64\n",
       "Shops_1            int64\n",
       "Shops_2           object\n",
       "Price            float64\n",
       "dtype: object"
      ]
     },
     "execution_count": 460,
     "metadata": {},
     "output_type": "execute_result"
    }
   ],
   "source": [
    "#проверяем, какие типы нужно изменить\n",
    "train.dtypes"
   ]
  },
  {
   "cell_type": "code",
   "execution_count": 461,
   "metadata": {},
   "outputs": [],
   "source": [
    "#заменим категориальные признаки\n",
    "feature_bin_names = ['Ecology_2', 'Ecology_3', 'Shops_2']\n",
    "\n",
    "train[feature_bin_names] = train[feature_bin_names].replace({'A':0, 'B':1})\n",
    "test[feature_bin_names] = test[feature_bin_names].replace({'A':0, 'B':1})"
   ]
  },
  {
   "cell_type": "code",
   "execution_count": 462,
   "metadata": {},
   "outputs": [],
   "source": [
    "train['DistrictId'] = train['DistrictId'].astype(str)\n",
    "test['DistrictId'] = test['DistrictId'].astype(str)"
   ]
  },
  {
   "cell_type": "code",
   "execution_count": 463,
   "metadata": {},
   "outputs": [],
   "source": [
    "#обработка пропусков\n",
    "train.loc[train['LifeSquare'].isna(), 'LifeSquare'] =     train['Square'] - train['KitchenSquare']\n",
    "test.loc[test['LifeSquare'].isna(), 'LifeSquare'] =     test['Square'] - test['KitchenSquare']"
   ]
  },
  {
   "cell_type": "code",
   "execution_count": 464,
   "metadata": {},
   "outputs": [],
   "source": [
    "train['Healthcare_1'].fillna(train['Healthcare_1'].median(), inplace=True)\n",
    "test['Healthcare_1'].fillna(test['Healthcare_1'].median(), inplace=True)"
   ]
  },
  {
   "cell_type": "code",
   "execution_count": 465,
   "metadata": {},
   "outputs": [
    {
     "data": {
      "text/plain": [
       "Series([], Name: Rooms, dtype: float64)"
      ]
     },
     "execution_count": 465,
     "metadata": {},
     "output_type": "execute_result"
    }
   ],
   "source": [
    "#проверка, все ли значения количества комнат целочисленные\n",
    "train.loc[(train['Rooms'] //1 - train['Rooms'] )!=0, 'Rooms']"
   ]
  },
  {
   "cell_type": "code",
   "execution_count": 466,
   "metadata": {},
   "outputs": [
    {
     "data": {
      "text/plain": [
       "2.00     3880\n",
       "1.00     3705\n",
       "3.00     2235\n",
       "4.00      150\n",
       "5.00       18\n",
       "0.00        8\n",
       "10.00       2\n",
       "19.00       1\n",
       "6.00        1\n",
       "Name: Rooms, dtype: int64"
      ]
     },
     "execution_count": 466,
     "metadata": {},
     "output_type": "execute_result"
    }
   ],
   "source": [
    "#обработка выбросов\n",
    "train['Rooms'].value_counts()"
   ]
  },
  {
   "cell_type": "code",
   "execution_count": 467,
   "metadata": {},
   "outputs": [
    {
     "data": {
      "image/png": "[encoded data removed]",
      "text/plain": [
       "<Figure size 432x288 with 1 Axes>"
      ]
     },
     "metadata": {},
     "output_type": "display_data"
    }
   ],
   "source": [
    "plt.scatter(train['Rooms'], train['Price']);"
   ]
  },
  {
   "cell_type": "code",
   "execution_count": 468,
   "metadata": {},
   "outputs": [
    {
     "data": {
      "text/plain": [
       "2.00     2030\n",
       "1.00     1769\n",
       "3.00     1099\n",
       "4.00       90\n",
       "5.00        7\n",
       "0.00        2\n",
       "6.00        2\n",
       "17.00       1\n",
       "Name: Rooms, dtype: int64"
      ]
     },
     "execution_count": 468,
     "metadata": {},
     "output_type": "execute_result"
    }
   ],
   "source": [
    "test['Rooms'].value_counts()"
   ]
  },
  {
   "cell_type": "code",
   "execution_count": 469,
   "metadata": {},
   "outputs": [
    {
     "data": {
      "image/png": "[encoded data removed]",
      "text/plain": [
       "<Figure size 432x288 with 1 Axes>"
      ]
     },
     "metadata": {},
     "output_type": "display_data"
    }
   ],
   "source": [
    "plt.scatter(train['Rooms'], train['Square']);"
   ]
  },
  {
   "cell_type": "code",
   "execution_count": 470,
   "metadata": {},
   "outputs": [
    {
     "data": {
      "text/plain": [
       "0   2.00\n",
       "dtype: float64"
      ]
     },
     "execution_count": 470,
     "metadata": {},
     "output_type": "execute_result"
    }
   ],
   "source": [
    "train['Rooms'].mode()"
   ]
  },
  {
   "cell_type": "code",
   "execution_count": 477,
   "metadata": {},
   "outputs": [],
   "source": [
    "# замена выбросов\n",
    "train.loc[(train['Rooms'] > 5)|(train['Rooms'] == 0), 'Rooms'] = train['Rooms'].mode()[0]\n",
    "test.loc[(test['Rooms'] > 5)|(test['Rooms'] == 0), 'Rooms'] = train['Rooms'].mode()[0] \n",
    "\n",
    "\n",
    "train.loc[(train['Square'] > 400) | (train['Square'] < 10), 'Square'] = train['Square'].median()\n",
    "test.loc[(test['Square'] > 400) | (test['Square'] < 10), 'Square'] =  train['Square'].median()\n",
    "#.median()\n",
    "train.loc[(train['LifeSquare'] > 400), 'LifeSquare'] =  train['LifeSquare'].median()\n",
    "test.loc[(test['LifeSquare'] > 400), 'LifeSquare'] = train['LifeSquare'].median()"
   ]
  },
  {
   "cell_type": "code",
   "execution_count": 478,
   "metadata": {},
   "outputs": [],
   "source": [
    "target_name = ['Price']\n",
    "#после построения модели, просмотрела feature_importances_ и исключила наименее значимые\n",
    "feature_names = [\n",
    "'DistrictId',\n",
    "             'Rooms',\n",
    "             'Square',\n",
    "'LifeSquare',\n",
    "             'KitchenSquare',\n",
    "             'Floor',\n",
    "             'HouseFloor',\n",
    "             'HouseYear',\n",
    "             'Ecology_1',\n",
    "           # 'Ecology_2',\n",
    "          #  'Ecology_3',\n",
    "             'Social_1',\n",
    "             'Social_2',\n",
    "             'Social_3',\n",
    "             'Healthcare_1',\n",
    "             'Helthcare_2',\n",
    "             'Shops_1'\n",
    "           #  'Shops_2'\n",
    "\n",
    "\n",
    "\n",
    "                ]"
   ]
  },
  {
   "cell_type": "code",
   "execution_count": 479,
   "metadata": {},
   "outputs": [],
   "source": [
    "X = train[feature_names]\n",
    "y = train[target_name]\n",
    "\n",
    "X_test = test[feature_names]\n"
   ]
  },
  {
   "cell_type": "code",
   "execution_count": 480,
   "metadata": {},
   "outputs": [],
   "source": [
    "# комментирую GridSearchCV, чтобы не замедлять работу проекта\n",
    "#forest = RandomForestRegressor(max_depth=19, \n",
    "#                               max_features=6, \n",
    "#                               n_estimators=100,\n",
    "#                              random_state=42)\n",
    "#params = {\n",
    "#    'n_estimators': [400],\n",
    "#  'max_depth': [18,19,20],\n",
    "#   'max_features': [5,6,7]\n",
    "#}\n",
    "#forest_grid = GridSearchCV(forest, params, scoring='r2', \n",
    "#                 cv=KFold(n_splits=10, random_state=42, shuffle=True), \n",
    "#                n_jobs=-1)\n",
    "#forest_grid.fit(X, y)\n",
    "#print(forest_grid.best_params_)\n",
    "#print('R2 на train: {:.5f}'.format(forest_grid.best_score_))"
   ]
  },
  {
   "cell_type": "code",
   "execution_count": 481,
   "metadata": {},
   "outputs": [],
   "source": [
    "#forest_best = forest_grid.best_estimator_\n",
    "#importances = forest_best.feature_importances_\n",
    "#feat_importances = pd.Series(importances, index=feature_names)\n",
    "#feat_importances.sort_values(ascending=True, inplace=True)"
   ]
  },
  {
   "cell_type": "code",
   "execution_count": 482,
   "metadata": {},
   "outputs": [],
   "source": [
    "#feat_importances.plot(kind='barh', figsize=(10, 6));"
   ]
  },
  {
   "cell_type": "code",
   "execution_count": 483,
   "metadata": {},
   "outputs": [],
   "source": [
    "#строим лес с лучшими параметрами\n",
    "my_forest = RandomForestRegressor(max_depth=18, \n",
    "                              max_features=5, \n",
    "                               n_estimators=400,\n",
    "                               random_state=42)\n",
    "my_forest.fit(X, y)\n",
    "\n",
    "y_pred = my_forest.predict(X_test)"
   ]
  },
  {
   "cell_type": "code",
   "execution_count": 484,
   "metadata": {},
   "outputs": [],
   "source": [
    "preds = pd.DataFrame()\n",
    "preds['Id'] = X_test.index\n",
    "preds['Price'] = y_pred\n",
    "preds.to_csv('JuliaGribova_predictions.csv', index=False)"
   ]
  },
  {
   "cell_type": "code",
   "execution_count": 485,
   "metadata": {},
   "outputs": [],
   "source": [
    "#пробовала Градиентный метод, но он дал худший результат, поэтому его закомментировала\n",
    "#gb_model = GradientBoostingRegressor(random_state=42)\n",
    "#params = {'n_estimators':[100, 200, 400], \n",
    " #         'max_depth':[5, 7, 9]}\n",
    "\n",
    "#gs = GridSearchCV(gb_model, params, scoring='r2', \n",
    " #                 cv=KFold(n_splits=3, random_state=42, shuffle=True), \n",
    "#                  n_jobs=-1)\n",
    "#gs.fit(X, y)\n",
    "#gs.best_params_"
   ]
  },
  {
   "cell_type": "code",
   "execution_count": 486,
   "metadata": {},
   "outputs": [],
   "source": [
    "#final_model = GradientBoostingRegressor(n_estimators=200, max_depth=5, random_state=42)\n",
    "#final_model.fit(X, y)\n",
    "#y_pred = final_model.predict(X_test)\n"
   ]
  },
  {
   "cell_type": "code",
   "execution_count": 487,
   "metadata": {},
   "outputs": [],
   "source": [
    "#preds = pd.DataFrame()\n",
    "#preds['Id'] = X_test.index\n",
    "#preds['Price'] = y_pred\n",
    "#preds.to_csv('JuliaGribova_predictions_grad.csv', index=False)"
   ]
  }
 ],
 "metadata": {
  "kernelspec": {
   "display_name": "Python 3",
   "language": "python",
   "name": "python3"
  },
  "language_info": {
   "codemirror_mode": {
    "name": "ipython",
    "version": 3
   },
   "file_extension": ".py",
   "mimetype": "text/x-python",
   "name": "python",
   "nbconvert_exporter": "python",
   "pygments_lexer": "ipython3",
   "version": "3.7.6"
  }
 },
 "nbformat": 4,
 "nbformat_minor": 4
}
